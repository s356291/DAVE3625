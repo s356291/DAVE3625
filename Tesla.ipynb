{
 "cells": [
  {
   "cell_type": "markdown",
   "metadata": {},
   "source": [
    "## Using Regression or Classification\n",
    "\n",
    "Predicting Stock market price for Tesla, as the data is not clustered the only way to predict the trends is through regression.\n",
    "\n",
    "\n",
    "Regression finds the correleations between the variables and predict the continous output.\n"
   ]
  },
  {
   "cell_type": "code",
   "execution_count": 1,
   "metadata": {},
   "outputs": [],
   "source": [
    "import pandas as pd \n",
    "import matplotlib.pyplot as plt \n",
    "import datetime as dt \n",
    "%matplotlib inline\n"
   ]
  },
  {
   "cell_type": "code",
   "execution_count": 10,
   "metadata": {},
   "outputs": [
    {
     "data": {
      "text/html": [
       "<div>\n",
       "<style scoped>\n",
       "    .dataframe tbody tr th:only-of-type {\n",
       "        vertical-align: middle;\n",
       "    }\n",
       "\n",
       "    .dataframe tbody tr th {\n",
       "        vertical-align: top;\n",
       "    }\n",
       "\n",
       "    .dataframe thead th {\n",
       "        text-align: right;\n",
       "    }\n",
       "</style>\n",
       "<table border=\"1\" class=\"dataframe\">\n",
       "  <thead>\n",
       "    <tr style=\"text-align: right;\">\n",
       "      <th></th>\n",
       "      <th>Date</th>\n",
       "      <th>Open</th>\n",
       "      <th>High</th>\n",
       "      <th>Low</th>\n",
       "      <th>Close</th>\n",
       "      <th>Adj Close</th>\n",
       "      <th>Volume</th>\n",
       "    </tr>\n",
       "  </thead>\n",
       "  <tbody>\n",
       "    <tr>\n",
       "      <th>2840</th>\n",
       "      <td>2021-10-08</td>\n",
       "      <td>796.210022</td>\n",
       "      <td>796.380005</td>\n",
       "      <td>780.909973</td>\n",
       "      <td>785.489990</td>\n",
       "      <td>785.489990</td>\n",
       "      <td>16711100</td>\n",
       "    </tr>\n",
       "    <tr>\n",
       "      <th>2841</th>\n",
       "      <td>2021-10-11</td>\n",
       "      <td>787.650024</td>\n",
       "      <td>801.239990</td>\n",
       "      <td>785.500000</td>\n",
       "      <td>791.940002</td>\n",
       "      <td>791.940002</td>\n",
       "      <td>14200300</td>\n",
       "    </tr>\n",
       "    <tr>\n",
       "      <th>2842</th>\n",
       "      <td>2021-10-12</td>\n",
       "      <td>800.929993</td>\n",
       "      <td>812.320007</td>\n",
       "      <td>796.570007</td>\n",
       "      <td>805.719971</td>\n",
       "      <td>805.719971</td>\n",
       "      <td>22020000</td>\n",
       "    </tr>\n",
       "    <tr>\n",
       "      <th>2843</th>\n",
       "      <td>2021-10-13</td>\n",
       "      <td>810.469971</td>\n",
       "      <td>815.409973</td>\n",
       "      <td>805.780029</td>\n",
       "      <td>811.080017</td>\n",
       "      <td>811.080017</td>\n",
       "      <td>14120100</td>\n",
       "    </tr>\n",
       "    <tr>\n",
       "      <th>2844</th>\n",
       "      <td>2021-10-14</td>\n",
       "      <td>815.489990</td>\n",
       "      <td>820.250000</td>\n",
       "      <td>813.349976</td>\n",
       "      <td>818.320007</td>\n",
       "      <td>818.320007</td>\n",
       "      <td>12203200</td>\n",
       "    </tr>\n",
       "  </tbody>\n",
       "</table>\n",
       "</div>"
      ],
      "text/plain": [
       "            Date        Open        High         Low       Close   Adj Close  \\\n",
       "2840  2021-10-08  796.210022  796.380005  780.909973  785.489990  785.489990   \n",
       "2841  2021-10-11  787.650024  801.239990  785.500000  791.940002  791.940002   \n",
       "2842  2021-10-12  800.929993  812.320007  796.570007  805.719971  805.719971   \n",
       "2843  2021-10-13  810.469971  815.409973  805.780029  811.080017  811.080017   \n",
       "2844  2021-10-14  815.489990  820.250000  813.349976  818.320007  818.320007   \n",
       "\n",
       "        Volume  \n",
       "2840  16711100  \n",
       "2841  14200300  \n",
       "2842  22020000  \n",
       "2843  14120100  \n",
       "2844  12203200  "
      ]
     },
     "execution_count": 10,
     "metadata": {},
     "output_type": "execute_result"
    }
   ],
   "source": [
    "#Importing data from Github\n",
    "\n",
    "url = \"https://raw.githubusercontent.com/s356291/DAVE3625/main/TSLA.csv\"\n",
    "df = pd.read_csv(url, sep=',')\n",
    "\n",
    "\n",
    "# Checking to see the lines\n",
    "df.tail()\n",
    "\n"
   ]
  }
 ],
 "metadata": {
  "kernelspec": {
   "display_name": "Python 3",
   "language": "python",
   "name": "python3"
  },
  "language_info": {
   "codemirror_mode": {
    "name": "ipython",
    "version": 3
   },
   "file_extension": ".py",
   "mimetype": "text/x-python",
   "name": "python",
   "nbconvert_exporter": "python",
   "pygments_lexer": "ipython3",
   "version": "3.10.0"
  }
 },
 "nbformat": 4,
 "nbformat_minor": 2
}
